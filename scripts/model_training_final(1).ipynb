{
 "cells": [
  {
   "cell_type": "code",
   "execution_count": 27,
   "id": "d1038485-79f3-49e9-aa89-fb51220718c4",
   "metadata": {},
   "outputs": [],
   "source": [
    "import pandas as pd\n",
    "import numpy as np\n",
    "from sklearn.model_selection import train_test_split\n",
    "from sklearn.preprocessing import StandardScaler\n",
    "from xgboost import XGBClassifier\n",
    "from sklearn.metrics import accuracy_score, classification_report, confusion_matrix\n",
    "\n",
    "# --- Configuration ---\n",
    "ANNOTATION_CSV = \"manual_annotations.csv\"\n",
    "FEATURES_CSV = \"extracted_features_multi_view.csv\"\n",
    "ACTUAL_ANGLE_COLUMN_NAME = 'selected camera angle'\n"
   ]
  },
  {
   "cell_type": "code",
   "execution_count": 28,
   "id": "d1aeb4b3-524f-45db-960f-6b7b511f824c",
   "metadata": {},
   "outputs": [
    {
     "name": "stdout",
     "output_type": "stream",
     "text": [
      "--- Phase 1: Loading Data ---\n",
      "Loading annotations from: manual_annotations.csv\n",
      "Successfully loaded manual_annotations.csv. Columns: ['timestamp', 'selected camera angle', 'notes']\n"
     ]
    }
   ],
   "source": [
    "print(f\"--- Phase 1: Loading Data ---\")\n",
    "print(f\"Loading annotations from: {ANNOTATION_CSV}\")\n",
    "try:\n",
    "    annotations_df = pd.read_csv(ANNOTATION_CSV)\n",
    "    print(f\"Successfully loaded {ANNOTATION_CSV}. Columns: {annotations_df.columns.tolist()}\")\n",
    "    if 'timestamp' in annotations_df.columns:\n",
    "        annotations_df['timestamp'] = pd.to_numeric(annotations_df['timestamp'], errors='coerce')\n",
    "        annotations_df.dropna(subset=['timestamp'], inplace=True)\n",
    "        valid_annotation_timestamps = set(annotations_df['timestamp'])\n",
    "    else:\n",
    "        raise ValueError(\"'timestamp' column not found in annotations.\")\n",
    "except Exception as e:\n",
    "    print(f\"Error loading {ANNOTATION_CSV}: {e}\")\n"
   ]
  },
  {
   "cell_type": "code",
   "execution_count": 29,
   "id": "89b78418-0242-4064-a114-0e3f028d298f",
   "metadata": {},
   "outputs": [
    {
     "name": "stdout",
     "output_type": "stream",
     "text": [
      "\n",
      "Loading features from: extracted_features_multi_view.csv\n",
      "Successfully loaded extracted_features_multi_view.csv. Columns: ['timestamp', 'ba_p1_x', 'ba_p1_y', 'ba_p1_conf', 'ba_p2_x', 'ba_p2_y', 'ba_p2_conf', 'ba_ball_x', 'ba_ball_y', 'ba_ball_conf', 'si_p1_x', 'si_p1_y', 'si_p1_conf', 'si_p2_x', 'si_p2_y', 'si_p2_conf', 'si_ball_x', 'si_ball_y', 'si_ball_conf', 'to_p1_x', 'to_p1_y', 'to_p1_conf', 'to_p2_x', 'to_p2_y', 'to_p2_conf', 'to_ball_x', 'to_ball_y', 'to_ball_conf']\n"
     ]
    }
   ],
   "source": [
    "print(f\"\\nLoading features from: {FEATURES_CSV}\")\n",
    "try:\n",
    "    features_df = pd.read_csv(FEATURES_CSV)\n",
    "    print(f\"Successfully loaded {FEATURES_CSV}. Columns: {features_df.columns.tolist()}\")\n",
    "    if 'timestamp' in features_df.columns:\n",
    "        features_df['timestamp'] = pd.to_numeric(features_df['timestamp'], errors='coerce')\n",
    "        features_df.dropna(subset=['timestamp'], inplace=True)\n",
    "    else:\n",
    "        raise ValueError(\"'timestamp' column not found in features.\")\n",
    "except Exception as e:\n",
    "    print(f\"Error loading {FEATURES_CSV}: {e}\")\n"
   ]
  },
  {
   "cell_type": "code",
   "execution_count": 30,
   "id": "c39d971b-76a7-4e87-9652-298221b6dd20",
   "metadata": {},
   "outputs": [
    {
     "name": "stdout",
     "output_type": "stream",
     "text": [
      "\n",
      "--- Phase 2: Processing Annotations ---\n",
      "Creating numerical 'label' column from 'selected camera angle'...\n",
      "Label mapping successful.\n"
     ]
    }
   ],
   "source": [
    "print(f\"\\n--- Phase 2: Processing Annotations ---\")\n",
    "if ACTUAL_ANGLE_COLUMN_NAME not in annotations_df.columns:\n",
    "    print(f\"\\nError: Column '{ACTUAL_ANGLE_COLUMN_NAME}' not found. Cannot create labels.\")\n",
    "else:\n",
    "    if 'label' not in annotations_df.columns:\n",
    "        print(f\"Creating numerical 'label' column from '{ACTUAL_ANGLE_COLUMN_NAME}'...\")\n",
    "        camera_angle_to_label = {\"Baseline\": 0, \"Sideline\": 1, \"Top Corner\": 2}\n",
    "        annotations_df['label'] = annotations_df[ACTUAL_ANGLE_COLUMN_NAME].str.strip().str.title().map(camera_angle_to_label)\n",
    "        nan_count = annotations_df['label'].isnull().sum()\n",
    "        if nan_count > 0:\n",
    "            print(f\"Warning: {nan_count} rows in '{ACTUAL_ANGLE_COLUMN_NAME}' did not map. Dropping these rows.\")\n",
    "            annotations_df.dropna(subset=['label'], inplace=True)\n",
    "        else:\n",
    "            print(\"Label mapping successful.\")\n",
    "        annotations_df['label'] = annotations_df['label'].astype(int)\n",
    "        valid_annotation_timestamps = set(annotations_df['timestamp'])\n",
    "    else:\n",
    "        print(\"'label' column already exists.\")\n",
    "    if not pd.api.types.is_integer_dtype(annotations_df['label']):\n",
    "        annotations_df['label'] = pd.to_numeric(annotations_df['label'], errors='coerce').dropna().astype(int)\n",
    "        valid_annotation_timestamps = set(annotations_df['timestamp'])\n"
   ]
  },
  {
   "cell_type": "code",
   "execution_count": 31,
   "id": "5699ac2d-7db2-425a-98dc-1bd381783529",
   "metadata": {},
   "outputs": [
    {
     "name": "stdout",
     "output_type": "stream",
     "text": [
      "\n",
      "--- Phase 3: Merging Data ---\n",
      "Merge complete. Resulting shape: (1281, 29)\n"
     ]
    }
   ],
   "source": [
    "print(\"\\n--- Phase 3: Merging Data ---\")\n",
    "cols_to_merge = ['timestamp', 'label']\n",
    "features_df_filtered = features_df[features_df['timestamp'].isin(valid_annotation_timestamps)]\n",
    "combined_df = pd.merge(features_df_filtered, annotations_df[cols_to_merge], on='timestamp', how='inner')\n",
    "print(f\"Merge complete. Resulting shape: {combined_df.shape}\")\n",
    "if combined_df.empty:\n",
    "    print(\"Error: Merged DataFrame is empty.\")\n"
   ]
  },
  {
   "cell_type": "code",
   "execution_count": 32,
   "id": "98dadf37-c8ce-4b08-8cb0-b6137405b146",
   "metadata": {},
   "outputs": [
    {
     "name": "stdout",
     "output_type": "stream",
     "text": [
      "\n",
      "--- Phase 4: Handling Missing Feature Values ---\n",
      "Found 27 potential feature columns to check for NaNs.\n",
      "NaNs handled (filled with -1.0).\n"
     ]
    }
   ],
   "source": [
    "print(\"\\n--- Phase 4: Handling Missing Feature Values ---\")\n",
    "feature_columns = [col for col in combined_df.columns if col not in ['timestamp', 'label', 'notes']]\n",
    "print(f\"Found {len(feature_columns)} potential feature columns to check for NaNs.\")\n",
    "combined_df[feature_columns] = combined_df[feature_columns].fillna(-1.0)\n",
    "print(\"NaNs handled (filled with -1.0).\")\n"
   ]
  },
  {
   "cell_type": "code",
   "execution_count": 33,
   "id": "e5917db8-ea17-4788-bb30-b13e4ce8dfc3",
   "metadata": {},
   "outputs": [
    {
     "name": "stdout",
     "output_type": "stream",
     "text": [
      "\n",
      "--- Phase 5: Defining Feature Set (Option B: Multi-View Coords) ---\n",
      "Final features being used (12): ['ba_p1_x', 'ba_p1_y', 'ba_p2_x', 'ba_p2_y', 'si_p1_x', 'si_p1_y', 'si_p2_x', 'si_p2_y', 'to_p1_x', 'to_p1_y', 'to_p2_x', 'to_p2_y']\n"
     ]
    }
   ],
   "source": [
    "print(\"\\n--- Phase 5: Defining Feature Set (Option B: Multi-View Coords) ---\")\n",
    "feature_cols_to_use = [\n",
    "    'ba_p1_x', 'ba_p1_y', 'ba_p2_x', 'ba_p2_y',\n",
    "    'si_p1_x', 'si_p1_y', 'si_p2_x', 'si_p2_y',\n",
    "    'to_p1_x', 'to_p1_y', 'to_p2_x', 'to_p2_y',\n",
    "]\n",
    "feature_cols_to_use = [col for col in feature_cols_to_use if col in combined_df.columns]\n",
    "if not feature_cols_to_use:\n",
    "    print(\"Error: No feature columns selected/found!\")\n",
    "else:\n",
    "    print(f\"Final features being used ({len(feature_cols_to_use)}): {feature_cols_to_use}\")\n"
   ]
  },
  {
   "cell_type": "code",
   "execution_count": 34,
   "id": "bfb6b130-f94f-4755-9613-35703c3d5fd4",
   "metadata": {},
   "outputs": [
    {
     "name": "stdout",
     "output_type": "stream",
     "text": [
      "\n",
      "--- Phase 6: Defining X and y ---\n",
      "Features (X) shape: (1281, 12)\n",
      "Target (y) shape: (1281,)\n"
     ]
    }
   ],
   "source": [
    "print(\"\\n--- Phase 6: Defining X and y ---\")\n",
    "X = combined_df[feature_cols_to_use]\n",
    "y = combined_df['label']\n",
    "print(\"Features (X) shape:\", X.shape)\n",
    "print(\"Target (y) shape:\", y.shape)\n"
   ]
  },
  {
   "cell_type": "code",
   "execution_count": 35,
   "id": "84930be6-b9ef-40f1-be2b-2ece1d4811a1",
   "metadata": {},
   "outputs": [
    {
     "name": "stdout",
     "output_type": "stream",
     "text": [
      "\n",
      "--- Phase 7: Splitting Data ---\n",
      "Data splitting successful.\n",
      "Training set size: 1024\n",
      "Validation set size: 257\n"
     ]
    }
   ],
   "source": [
    "print(\"\\n--- Phase 7: Splitting Data ---\")\n",
    "try:\n",
    "    X_train, X_val, y_train, y_val = train_test_split(X, y, test_size=0.2, random_state=42, stratify=y)\n",
    "    print(\"Data splitting successful.\")\n",
    "    print(\"Training set size:\", X_train.shape[0])\n",
    "    print(\"Validation set size:\", X_val.shape[0])\n",
    "except Exception as e:\n",
    "    print(f\"Error during train/test split: {e}\")\n"
   ]
  },
  {
   "cell_type": "code",
   "execution_count": 36,
   "id": "4be7d2e3-3b80-4733-8312-1639e0e432d8",
   "metadata": {},
   "outputs": [
    {
     "name": "stdout",
     "output_type": "stream",
     "text": [
      "\n",
      "--- Phase 8: Applying Feature Scaling ---\n",
      "Scaling applied (fit on train, transform train/val).\n"
     ]
    }
   ],
   "source": [
    "print(\"\\n--- Phase 8: Applying Feature Scaling ---\")\n",
    "scaler = StandardScaler()\n",
    "X_train_scaled = scaler.fit_transform(X_train)\n",
    "X_val_scaled = scaler.transform(X_val)\n",
    "print(\"Scaling applied (fit on train, transform train/val).\")\n"
   ]
  },
  {
   "cell_type": "code",
   "execution_count": 37,
   "id": "01797c07-4b43-4aab-8169-4604f237a3f9",
   "metadata": {},
   "outputs": [
    {
     "name": "stdout",
     "output_type": "stream",
     "text": [
      "\n",
      "--- Phase 9: Training and Evaluating XGBoost (using SCALED data) ---\n",
      "\n",
      "Training the XGBoost model...\n",
      "Model training complete.\n",
      "\n",
      "Making predictions on the SCALED validation set...\n",
      "Validation Accuracy: 0.8872\n",
      "\n",
      "Classification Report:\n",
      "              precision    recall  f1-score   support\n",
      "\n",
      "    Baseline       0.85      0.92      0.88       108\n",
      "    Sideline       1.00      0.93      0.96        28\n",
      "  Top Corner       0.90      0.85      0.88       121\n",
      "\n",
      "    accuracy                           0.89       257\n",
      "   macro avg       0.92      0.90      0.91       257\n",
      "weighted avg       0.89      0.89      0.89       257\n",
      "\n",
      "\n",
      "Confusion Matrix:\n",
      "[[ 99   0   9]\n",
      " [  0  26   2]\n",
      " [ 18   0 103]]\n"
     ]
    }
   ],
   "source": [
    "print(\"\\n--- Phase 9: Training and Evaluating XGBoost (using SCALED data) ---\")\n",
    "try:\n",
    "    xgb_model = XGBClassifier(\n",
    "        objective='multi:softmax',\n",
    "        num_class=3,\n",
    "        random_state=42,\n",
    "        eval_metric='mlogloss',\n",
    "        early_stopping_rounds=10,\n",
    "    )\n",
    "\n",
    "    print(\"\\nTraining the XGBoost model...\")\n",
    "    eval_set = [(X_val_scaled, y_val)]\n",
    "    xgb_model.fit(X_train_scaled, y_train, eval_set=eval_set, verbose=False)\n",
    "    print(\"Model training complete.\")\n",
    "\n",
    "    print(\"\\nMaking predictions on the SCALED validation set...\")\n",
    "    y_pred_xgb_val = xgb_model.predict(X_val_scaled)\n",
    "\n",
    "    accuracy_xgb = accuracy_score(y_val, y_pred_xgb_val)\n",
    "    print(f\"Validation Accuracy: {accuracy_xgb:.4f}\")\n",
    "    print(\"\\nClassification Report:\")\n",
    "    print(classification_report(y_val, y_pred_xgb_val, target_names=[\"Baseline\", \"Sideline\", \"Top Corner\"]))\n",
    "    print(\"\\nConfusion Matrix:\")\n",
    "    print(confusion_matrix(y_val, y_pred_xgb_val))\n",
    "\n",
    "except Exception as e:\n",
    "    print(f\"Error training/evaluating XGBoost: {e}\")\n"
   ]
  },
  {
   "cell_type": "code",
   "execution_count": 42,
   "id": "de2ae155-61a5-4e69-8988-5269ec0abace",
   "metadata": {},
   "outputs": [
    {
     "name": "stderr",
     "output_type": "stream",
     "text": [
      "C:\\Users\\HRITHIK S\\AppData\\Roaming\\Python\\Python312\\site-packages\\xgboost\\training.py:183: UserWarning: [19:33:23] WARNING: C:\\actions-runner\\_work\\xgboost\\xgboost\\src\\learner.cc:738: \n",
      "Parameters: { \"use_label_encoder\" } are not used.\n",
      "\n",
      "  bst.update(dtrain, iteration=i, fobj=obj)\n"
     ]
    },
    {
     "name": "stdout",
     "output_type": "stream",
     "text": [
      "Model training complete.\n"
     ]
    }
   ],
   "source": [
    "from xgboost import XGBClassifier\n",
    "\n",
    "xgb_model = XGBClassifier(\n",
    "    objective='multi:softprob',\n",
    "    eval_metric='mlogloss',\n",
    "    num_class=3,\n",
    "    use_label_encoder=False,\n",
    "    random_state=42\n",
    ")\n",
    "\n",
    "eval_set = [(X_val_scaled, y_val)]\n",
    "\n",
    "# Fit the model\n",
    "xgb_model.fit(X_train_scaled, y_train, eval_set=eval_set, verbose=False)\n",
    "print(\"Model training complete.\")\n",
    "\n"
   ]
  },
  {
   "cell_type": "code",
   "execution_count": 43,
   "id": "74a8ac90-17c7-4bde-9f52-90274ddbdefd",
   "metadata": {},
   "outputs": [
    {
     "data": {
      "text/plain": [
       "['feature_scaler.joblib']"
      ]
     },
     "execution_count": 43,
     "metadata": {},
     "output_type": "execute_result"
    }
   ],
   "source": [
    "# Save the model\n",
    "xgb_model.save_model(\"tennis_director_xgb.json\")\n",
    "\n",
    "# Save the scaler\n",
    "import joblib\n",
    "joblib.dump(scaler, \"feature_scaler.joblib\")\n"
   ]
  },
  {
   "cell_type": "code",
   "execution_count": null,
   "id": "e365fc92-323c-45cf-9469-b9c1f48fa144",
   "metadata": {},
   "outputs": [],
   "source": []
  }
 ],
 "metadata": {
  "kernelspec": {
   "display_name": "Python 3 (ipykernel)",
   "language": "python",
   "name": "python3"
  },
  "language_info": {
   "codemirror_mode": {
    "name": "ipython",
    "version": 3
   },
   "file_extension": ".py",
   "mimetype": "text/x-python",
   "name": "python",
   "nbconvert_exporter": "python",
   "pygments_lexer": "ipython3",
   "version": "3.12.7"
  }
 },
 "nbformat": 4,
 "nbformat_minor": 5
}
